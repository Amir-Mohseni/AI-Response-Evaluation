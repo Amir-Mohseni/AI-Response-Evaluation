{
 "cells": [
  {
   "cell_type": "code",
   "execution_count": 2,
   "metadata": {},
   "outputs": [
    {
     "name": "stdout",
     "output_type": "stream",
     "text": [
      "Requirement already satisfied: openai in ./.venv/lib/python3.9/site-packages (from -r requirements.txt (line 1)) (1.28.0)\n",
      "Requirement already satisfied: python-dotenv in ./.venv/lib/python3.9/site-packages (from -r requirements.txt (line 2)) (1.0.1)\n",
      "Requirement already satisfied: pandas in ./.venv/lib/python3.9/site-packages (from -r requirements.txt (line 3)) (2.2.2)\n",
      "Requirement already satisfied: numpy in ./.venv/lib/python3.9/site-packages (from -r requirements.txt (line 4)) (1.26.4)\n",
      "Requirement already satisfied: matplotlib in ./.venv/lib/python3.9/site-packages (from -r requirements.txt (line 5)) (3.8.4)\n",
      "Requirement already satisfied: google-generativeai in ./.venv/lib/python3.9/site-packages (from -r requirements.txt (line 6)) (0.5.4)\n",
      "Requirement already satisfied: anyio<5,>=3.5.0 in ./.venv/lib/python3.9/site-packages (from openai->-r requirements.txt (line 1)) (4.3.0)\n",
      "Requirement already satisfied: distro<2,>=1.7.0 in ./.venv/lib/python3.9/site-packages (from openai->-r requirements.txt (line 1)) (1.9.0)\n",
      "Requirement already satisfied: httpx<1,>=0.23.0 in ./.venv/lib/python3.9/site-packages (from openai->-r requirements.txt (line 1)) (0.27.0)\n",
      "Requirement already satisfied: pydantic<3,>=1.9.0 in ./.venv/lib/python3.9/site-packages (from openai->-r requirements.txt (line 1)) (2.7.1)\n",
      "Requirement already satisfied: sniffio in ./.venv/lib/python3.9/site-packages (from openai->-r requirements.txt (line 1)) (1.3.1)\n",
      "Requirement already satisfied: tqdm>4 in ./.venv/lib/python3.9/site-packages (from openai->-r requirements.txt (line 1)) (4.66.4)\n",
      "Requirement already satisfied: typing-extensions<5,>=4.7 in ./.venv/lib/python3.9/site-packages (from openai->-r requirements.txt (line 1)) (4.11.0)\n",
      "Requirement already satisfied: python-dateutil>=2.8.2 in ./.venv/lib/python3.9/site-packages (from pandas->-r requirements.txt (line 3)) (2.9.0.post0)\n",
      "Requirement already satisfied: pytz>=2020.1 in ./.venv/lib/python3.9/site-packages (from pandas->-r requirements.txt (line 3)) (2024.1)\n",
      "Requirement already satisfied: tzdata>=2022.7 in ./.venv/lib/python3.9/site-packages (from pandas->-r requirements.txt (line 3)) (2024.1)\n",
      "Requirement already satisfied: contourpy>=1.0.1 in ./.venv/lib/python3.9/site-packages (from matplotlib->-r requirements.txt (line 5)) (1.2.1)\n",
      "Requirement already satisfied: cycler>=0.10 in ./.venv/lib/python3.9/site-packages (from matplotlib->-r requirements.txt (line 5)) (0.12.1)\n",
      "Requirement already satisfied: fonttools>=4.22.0 in ./.venv/lib/python3.9/site-packages (from matplotlib->-r requirements.txt (line 5)) (4.51.0)\n",
      "Requirement already satisfied: kiwisolver>=1.3.1 in ./.venv/lib/python3.9/site-packages (from matplotlib->-r requirements.txt (line 5)) (1.4.5)\n",
      "Requirement already satisfied: packaging>=20.0 in ./.venv/lib/python3.9/site-packages (from matplotlib->-r requirements.txt (line 5)) (24.0)\n",
      "Requirement already satisfied: pillow>=8 in ./.venv/lib/python3.9/site-packages (from matplotlib->-r requirements.txt (line 5)) (10.3.0)\n",
      "Requirement already satisfied: pyparsing>=2.3.1 in ./.venv/lib/python3.9/site-packages (from matplotlib->-r requirements.txt (line 5)) (3.1.2)\n",
      "Requirement already satisfied: importlib-resources>=3.2.0 in ./.venv/lib/python3.9/site-packages (from matplotlib->-r requirements.txt (line 5)) (6.4.0)\n",
      "Requirement already satisfied: google-ai-generativelanguage==0.6.4 in ./.venv/lib/python3.9/site-packages (from google-generativeai->-r requirements.txt (line 6)) (0.6.4)\n",
      "Requirement already satisfied: google-api-core in ./.venv/lib/python3.9/site-packages (from google-generativeai->-r requirements.txt (line 6)) (2.19.0)\n",
      "Requirement already satisfied: google-api-python-client in ./.venv/lib/python3.9/site-packages (from google-generativeai->-r requirements.txt (line 6)) (2.129.0)\n",
      "Requirement already satisfied: google-auth>=2.15.0 in ./.venv/lib/python3.9/site-packages (from google-generativeai->-r requirements.txt (line 6)) (2.29.0)\n",
      "Requirement already satisfied: protobuf in ./.venv/lib/python3.9/site-packages (from google-generativeai->-r requirements.txt (line 6)) (4.25.3)\n",
      "Requirement already satisfied: proto-plus<2.0.0dev,>=1.22.3 in ./.venv/lib/python3.9/site-packages (from google-ai-generativelanguage==0.6.4->google-generativeai->-r requirements.txt (line 6)) (1.23.0)\n",
      "Requirement already satisfied: idna>=2.8 in ./.venv/lib/python3.9/site-packages (from anyio<5,>=3.5.0->openai->-r requirements.txt (line 1)) (3.7)\n",
      "Requirement already satisfied: exceptiongroup>=1.0.2 in ./.venv/lib/python3.9/site-packages (from anyio<5,>=3.5.0->openai->-r requirements.txt (line 1)) (1.2.1)\n",
      "Requirement already satisfied: googleapis-common-protos<2.0.dev0,>=1.56.2 in ./.venv/lib/python3.9/site-packages (from google-api-core->google-generativeai->-r requirements.txt (line 6)) (1.63.0)\n",
      "Requirement already satisfied: requests<3.0.0.dev0,>=2.18.0 in ./.venv/lib/python3.9/site-packages (from google-api-core->google-generativeai->-r requirements.txt (line 6)) (2.31.0)\n",
      "Requirement already satisfied: cachetools<6.0,>=2.0.0 in ./.venv/lib/python3.9/site-packages (from google-auth>=2.15.0->google-generativeai->-r requirements.txt (line 6)) (5.3.3)\n",
      "Requirement already satisfied: pyasn1-modules>=0.2.1 in ./.venv/lib/python3.9/site-packages (from google-auth>=2.15.0->google-generativeai->-r requirements.txt (line 6)) (0.4.0)\n",
      "Requirement already satisfied: rsa<5,>=3.1.4 in ./.venv/lib/python3.9/site-packages (from google-auth>=2.15.0->google-generativeai->-r requirements.txt (line 6)) (4.9)\n",
      "Requirement already satisfied: certifi in ./.venv/lib/python3.9/site-packages (from httpx<1,>=0.23.0->openai->-r requirements.txt (line 1)) (2024.2.2)\n",
      "Requirement already satisfied: httpcore==1.* in ./.venv/lib/python3.9/site-packages (from httpx<1,>=0.23.0->openai->-r requirements.txt (line 1)) (1.0.5)\n",
      "Requirement already satisfied: h11<0.15,>=0.13 in ./.venv/lib/python3.9/site-packages (from httpcore==1.*->httpx<1,>=0.23.0->openai->-r requirements.txt (line 1)) (0.14.0)\n",
      "Requirement already satisfied: zipp>=3.1.0 in ./.venv/lib/python3.9/site-packages (from importlib-resources>=3.2.0->matplotlib->-r requirements.txt (line 5)) (3.18.1)\n",
      "Requirement already satisfied: annotated-types>=0.4.0 in ./.venv/lib/python3.9/site-packages (from pydantic<3,>=1.9.0->openai->-r requirements.txt (line 1)) (0.6.0)\n",
      "Requirement already satisfied: pydantic-core==2.18.2 in ./.venv/lib/python3.9/site-packages (from pydantic<3,>=1.9.0->openai->-r requirements.txt (line 1)) (2.18.2)\n",
      "Requirement already satisfied: six>=1.5 in ./.venv/lib/python3.9/site-packages (from python-dateutil>=2.8.2->pandas->-r requirements.txt (line 3)) (1.16.0)\n",
      "Requirement already satisfied: httplib2<1.dev0,>=0.19.0 in ./.venv/lib/python3.9/site-packages (from google-api-python-client->google-generativeai->-r requirements.txt (line 6)) (0.22.0)\n",
      "Requirement already satisfied: google-auth-httplib2<1.0.0,>=0.2.0 in ./.venv/lib/python3.9/site-packages (from google-api-python-client->google-generativeai->-r requirements.txt (line 6)) (0.2.0)\n",
      "Requirement already satisfied: uritemplate<5,>=3.0.1 in ./.venv/lib/python3.9/site-packages (from google-api-python-client->google-generativeai->-r requirements.txt (line 6)) (4.1.1)\n",
      "Requirement already satisfied: grpcio<2.0dev,>=1.33.2 in ./.venv/lib/python3.9/site-packages (from google-api-core[grpc]!=2.0.*,!=2.1.*,!=2.10.*,!=2.2.*,!=2.3.*,!=2.4.*,!=2.5.*,!=2.6.*,!=2.7.*,!=2.8.*,!=2.9.*,<3.0.0dev,>=1.34.1->google-ai-generativelanguage==0.6.4->google-generativeai->-r requirements.txt (line 6)) (1.63.0)\n",
      "Requirement already satisfied: grpcio-status<2.0.dev0,>=1.33.2 in ./.venv/lib/python3.9/site-packages (from google-api-core[grpc]!=2.0.*,!=2.1.*,!=2.10.*,!=2.2.*,!=2.3.*,!=2.4.*,!=2.5.*,!=2.6.*,!=2.7.*,!=2.8.*,!=2.9.*,<3.0.0dev,>=1.34.1->google-ai-generativelanguage==0.6.4->google-generativeai->-r requirements.txt (line 6)) (1.62.2)\n",
      "Requirement already satisfied: pyasn1<0.7.0,>=0.4.6 in ./.venv/lib/python3.9/site-packages (from pyasn1-modules>=0.2.1->google-auth>=2.15.0->google-generativeai->-r requirements.txt (line 6)) (0.6.0)\n",
      "Requirement already satisfied: charset-normalizer<4,>=2 in ./.venv/lib/python3.9/site-packages (from requests<3.0.0.dev0,>=2.18.0->google-api-core->google-generativeai->-r requirements.txt (line 6)) (3.3.2)\n",
      "Requirement already satisfied: urllib3<3,>=1.21.1 in ./.venv/lib/python3.9/site-packages (from requests<3.0.0.dev0,>=2.18.0->google-api-core->google-generativeai->-r requirements.txt (line 6)) (2.2.1)\n",
      "Note: you may need to restart the kernel to use updated packages.\n"
     ]
    }
   ],
   "source": [
    "%pip install -r requirements.txt"
   ]
  },
  {
   "cell_type": "code",
   "execution_count": 6,
   "metadata": {},
   "outputs": [],
   "source": [
    "import pandas as pd\n",
    "from openai import OpenAI\n",
    "import os\n",
    "from dotenv import load_dotenv\n",
    "import google.generativeai as genai\n",
    "\n",
    "load_dotenv()\n",
    "\n",
    "os.getenv('OPENAI_API_KEY')\n",
    "genai.configure(api_key=os.getenv('GOOGLE_API_KEY'))\n",
    "\n",
    "model = genai.GenerativeModel(model_name='gemini-1.5-flash-latest')\n",
    "client = OpenAI()"
   ]
  },
  {
   "cell_type": "code",
   "execution_count": 4,
   "metadata": {},
   "outputs": [],
   "source": [
    "PAIRWISE_JUDGE = \"\"\"Please act as an impartial judge and evaluate the quality of the responses provided by two AI assistants to the user question displayed below. You should choose the assistant that follows the user's instructions and answers the user's question better. Your evaluation should consider factors such as the helpfulness, relevance, accuracy, depth, creativity, and level of detail of their responses. Begin your evaluation by comparing the two responses and provide a short explanation. Avoid any position biases and ensure that the order in which the responses were presented does not influence your decision. Do not allow the length of the responses to influence your evaluation. Do not favor certain names of the assistants. Be as objective as possible. After providing your explanation, output your final verdict by strictly following this format: \\\"[[A]]\\\" if assistant A is better, \\\"[[B]]\\\" if assistant B is better, and \\\"[[C]]\\\" for a tie.\"\"\"\n",
    "\n",
    "prompt_template = \"\"\"[User Question]\n",
    "{question}\n",
    "\n",
    "[The Start of Assistant A's Answer]\n",
    "{answer_a}\n",
    "[The End of Assistant A's Answer]\n",
    "\n",
    "[The Start of Assistant B's Answer]\n",
    "{answer_b}\n",
    "[The End of Assistant B's Answer]\"\"\"\n",
    "\n",
    "description = \"Prompt for general questions\"\n",
    "category = \"{category}\"\n",
    "output_format = \"[[A]]\"\n",
    "\n",
    "PAIRWISE_JUDGE_FULL = PAIRWISE_JUDGE + prompt_template + description + category + output_format"
   ]
  },
  {
   "cell_type": "code",
   "execution_count": 38,
   "metadata": {},
   "outputs": [
    {
     "data": {
      "text/html": [
       "<div>\n",
       "<style scoped>\n",
       "    .dataframe tbody tr th:only-of-type {\n",
       "        vertical-align: middle;\n",
       "    }\n",
       "\n",
       "    .dataframe tbody tr th {\n",
       "        vertical-align: top;\n",
       "    }\n",
       "\n",
       "    .dataframe thead th {\n",
       "        text-align: right;\n",
       "    }\n",
       "</style>\n",
       "<table border=\"1\" class=\"dataframe\">\n",
       "  <thead>\n",
       "    <tr style=\"text-align: right;\">\n",
       "      <th></th>\n",
       "      <th>Category</th>\n",
       "      <th>Question</th>\n",
       "    </tr>\n",
       "  </thead>\n",
       "  <tbody>\n",
       "    <tr>\n",
       "      <th>0</th>\n",
       "      <td>combinatorics</td>\n",
       "      <td>Given a set X with n elements and a collection...</td>\n",
       "    </tr>\n",
       "    <tr>\n",
       "      <th>1</th>\n",
       "      <td>combinatorics</td>\n",
       "      <td>Show that it is possible to partition the vert...</td>\n",
       "    </tr>\n",
       "    <tr>\n",
       "      <th>2</th>\n",
       "      <td>combinatorics</td>\n",
       "      <td>Can you cover all the black squares in a chess...</td>\n",
       "    </tr>\n",
       "    <tr>\n",
       "      <th>3</th>\n",
       "      <td>combinatorics</td>\n",
       "      <td>There are n boxes B1, B2, …, Bn in a row. N ba...</td>\n",
       "    </tr>\n",
       "    <tr>\n",
       "      <th>4</th>\n",
       "      <td>combinatorics</td>\n",
       "      <td>Let A1, A2, …, A6 be subsets of S = {1, 2, …, ...</td>\n",
       "    </tr>\n",
       "  </tbody>\n",
       "</table>\n",
       "</div>"
      ],
      "text/plain": [
       "        Category                                           Question\n",
       "0  combinatorics  Given a set X with n elements and a collection...\n",
       "1  combinatorics  Show that it is possible to partition the vert...\n",
       "2  combinatorics  Can you cover all the black squares in a chess...\n",
       "3  combinatorics  There are n boxes B1, B2, …, Bn in a row. N ba...\n",
       "4  combinatorics  Let A1, A2, …, A6 be subsets of S = {1, 2, …, ..."
      ]
     },
     "execution_count": 38,
     "metadata": {},
     "output_type": "execute_result"
    }
   ],
   "source": [
    "df = pd.read_csv('QuestionSet/Q3.csv')\n",
    "# Drop the author column\n",
    "df.drop('Author', axis=1, inplace=True)\n",
    "\n",
    "# to lowercasing the columns\n",
    "df['Category'] = df['Category'].str.lower()\n",
    "df.head()"
   ]
  },
  {
   "cell_type": "code",
   "execution_count": 39,
   "metadata": {},
   "outputs": [
    {
     "data": {
      "text/plain": [
       "(177, 2)"
      ]
     },
     "execution_count": 39,
     "metadata": {},
     "output_type": "execute_result"
    }
   ],
   "source": [
    "df.shape"
   ]
  },
  {
   "cell_type": "code",
   "execution_count": 40,
   "metadata": {},
   "outputs": [
    {
     "data": {
      "text/plain": [
       "0"
      ]
     },
     "execution_count": 40,
     "metadata": {},
     "output_type": "execute_result"
    }
   ],
   "source": [
    "# Drop the rows with missing values in the Question column\n",
    "df = df.dropna(subset=['Question'])\n",
    "\n",
    "df['Question'].isnull().sum()"
   ]
  },
  {
   "cell_type": "code",
   "execution_count": 41,
   "metadata": {},
   "outputs": [],
   "source": [
    "def get_answer_gpt(question):\n",
    "    response = client.chat.completions.create(\n",
    "        model=\"gpt-4o\",\n",
    "        messages=[\n",
    "            {\"role\": \"system\", \"content\": \"You are a helpful assistant.\"},\n",
    "            {\"role\": \"user\", \"content\": question},\n",
    "        ]\n",
    "    )\n",
    "    return response.choices[-1].message.content"
   ]
  },
  {
   "cell_type": "code",
   "execution_count": 42,
   "metadata": {},
   "outputs": [],
   "source": [
    "def get_answer_gemini(question):\n",
    "    response = model.generate_content(question)\n",
    "    return response.text"
   ]
  },
  {
   "cell_type": "code",
   "execution_count": 43,
   "metadata": {},
   "outputs": [],
   "source": [
    "df['GPT_Answer'] = [None] * len(df)\n",
    "df['Gemini_Answer'] = [None] * len(df)"
   ]
  },
  {
   "cell_type": "code",
   "execution_count": 51,
   "metadata": {},
   "outputs": [],
   "source": [
    "for i in range(len(df)):\n",
    "    if df.iloc[i]['GPT_Answer'] is None:\n",
    "        question = df.iloc[i]['Question']\n",
    "        #set answer to the question\n",
    "        df.at[i, 'GPT_Answer'] = get_answer_gpt(question)"
   ]
  },
  {
   "cell_type": "code",
   "execution_count": 53,
   "metadata": {},
   "outputs": [
    {
     "data": {
      "text/plain": [
       "1"
      ]
     },
     "execution_count": 53,
     "metadata": {},
     "output_type": "execute_result"
    }
   ],
   "source": [
    "# count mum of questions that have no answer\n",
    "df['GPT_Answer'].isnull().sum()"
   ]
  },
  {
   "cell_type": "code",
   "execution_count": 65,
   "metadata": {},
   "outputs": [],
   "source": [
    "# Remove the snake game from the question and remove the row\n",
    "title = 'Program a snake game in python using pygame'\n",
    "\n",
    "# Remove the specific title from the 'Question' column\n",
    "df['Question'] = df['Question'].apply(lambda x: x.replace(title, '') if isinstance(x, str) else x)\n",
    "\n",
    "# Remove rows where 'Question' is empty or NaN\n",
    "df = df[df['Question'].notna() & (df['Question'] != '')]"
   ]
  },
  {
   "cell_type": "code",
   "execution_count": 66,
   "metadata": {},
   "outputs": [
    {
     "data": {
      "text/plain": [
       "0"
      ]
     },
     "execution_count": 66,
     "metadata": {},
     "output_type": "execute_result"
    }
   ],
   "source": [
    "#check if title is removed\n",
    "df['Question'].str.contains(title).sum()"
   ]
  },
  {
   "cell_type": "code",
   "execution_count": 73,
   "metadata": {},
   "outputs": [
    {
     "name": "stdout",
     "output_type": "stream",
     "text": [
      "A typical American-style crossword puzzle grid is an \\(N \\times N\\) matrix with black and white squares, which obeys the following rules: every white square must be part of an \"across\" word and a \"down\" word; no word can be fewer than three letters long; every white square must be reachable from every other white square; the grid is rotationally symmetric (for example, the colors of the top left and bottom right squares must match). Write a program to determine whether a given matrix qualifies as a crossword grid.\n",
      "Given a linked list, rearrange the node values such that they appear in alternating low -> high -> low -> high form. For example, given 1 -> 2 -> 3 -> 4 -> 5, you should return 1 -> 3 -> 2 -> 5 -> 4.\n"
     ]
    }
   ],
   "source": [
    "import time\n",
    "\n",
    "# Apply the api rate limit\n",
    "count = 0\n",
    "\n",
    "for i in range(len(df)):\n",
    "    if df.iloc[i]['Gemini_Answer'] is None:\n",
    "        question = df.iloc[i]['Question']\n",
    "        print(question)\n",
    "        count += 1\n",
    "        #set answer to the question\n",
    "        df.at[i, 'Gemini_Answer'] = get_answer_gemini(question)\n",
    "        if count == 15:\n",
    "            # Sleep for 1 minute\n",
    "            time.sleep(60)\n",
    "            count = 0"
   ]
  },
  {
   "cell_type": "code",
   "execution_count": 75,
   "metadata": {},
   "outputs": [
    {
     "data": {
      "text/plain": [
       "2"
      ]
     },
     "execution_count": 75,
     "metadata": {},
     "output_type": "execute_result"
    }
   ],
   "source": [
    "df['Gemini_Answer'].isnull().sum()"
   ]
  },
  {
   "cell_type": "code",
   "execution_count": 77,
   "metadata": {},
   "outputs": [],
   "source": [
    "# Remove the rows with missing values in the their column\n",
    "df = df.dropna(subset=['GPT_Answer', 'Gemini_Answer'])"
   ]
  },
  {
   "cell_type": "code",
   "execution_count": 78,
   "metadata": {},
   "outputs": [
    {
     "data": {
      "text/plain": [
       "(0, 0)"
      ]
     },
     "execution_count": 78,
     "metadata": {},
     "output_type": "execute_result"
    }
   ],
   "source": [
    "df['GPT_Answer'].isnull().sum(), df['Gemini_Answer'].isnull().sum()"
   ]
  },
  {
   "cell_type": "code",
   "execution_count": 79,
   "metadata": {},
   "outputs": [],
   "source": [
    "df.to_csv('QuestionSet/Q3_Answers.csv', index=False)"
   ]
  },
  {
   "cell_type": "code",
   "execution_count": 80,
   "metadata": {},
   "outputs": [],
   "source": [
    "df['Evaluation'] = [None] * len(df)"
   ]
  },
  {
   "cell_type": "code",
   "execution_count": 87,
   "metadata": {},
   "outputs": [],
   "source": [
    "# Evaluator\n",
    "for i in range(len(df)):\n",
    "    if df.iloc[i]['Evaluation'] is None:\n",
    "        question = df.iloc[i]['Question']\n",
    "\n",
    "        category = df.iloc[i]['Category']\n",
    "        \n",
    "        answer_gpt = df.iloc[i]['GPT_Answer']\n",
    "        answer_gemini = df.iloc[i]['Gemini_Answer']\n",
    "        \n",
    "        response = client.chat.completions.create(\n",
    "            model=\"gpt-4o\",\n",
    "            messages=[\n",
    "                {\"role\": \"system\", \"content\": \"You are a helpful assistant.\"},\n",
    "                {\"role\": \"user\", \"content\": PAIRWISE_JUDGE_FULL.format(question=question, category=category, answer_a=answer_gpt, answer_b=answer_gemini)},\n",
    "            ]\n",
    "        )  \n",
    "\n",
    "        df.at[i, 'Evaluation'] = response.choices[-1].message.content\n"
   ]
  },
  {
   "cell_type": "code",
   "execution_count": 88,
   "metadata": {},
   "outputs": [
    {
     "data": {
      "text/html": [
       "<div>\n",
       "<style scoped>\n",
       "    .dataframe tbody tr th:only-of-type {\n",
       "        vertical-align: middle;\n",
       "    }\n",
       "\n",
       "    .dataframe tbody tr th {\n",
       "        vertical-align: top;\n",
       "    }\n",
       "\n",
       "    .dataframe thead th {\n",
       "        text-align: right;\n",
       "    }\n",
       "</style>\n",
       "<table border=\"1\" class=\"dataframe\">\n",
       "  <thead>\n",
       "    <tr style=\"text-align: right;\">\n",
       "      <th></th>\n",
       "      <th>Category</th>\n",
       "      <th>Question</th>\n",
       "      <th>GPT_Answer</th>\n",
       "      <th>Gemini_Answer</th>\n",
       "      <th>Evaluation</th>\n",
       "    </tr>\n",
       "  </thead>\n",
       "  <tbody>\n",
       "    <tr>\n",
       "      <th>0</th>\n",
       "      <td>combinatorics</td>\n",
       "      <td>Given a set X with n elements and a collection...</td>\n",
       "      <td>To prove that there exists a subset of \\(X\\) w...</td>\n",
       "      <td>This is a classic problem related to the **Erd...</td>\n",
       "      <td>Both Assistant A and Assistant B aimed to prov...</td>\n",
       "    </tr>\n",
       "    <tr>\n",
       "      <th>1</th>\n",
       "      <td>combinatorics</td>\n",
       "      <td>Show that it is possible to partition the vert...</td>\n",
       "      <td>To show that it is possible to partition the v...</td>\n",
       "      <td>This statement is not true for all graphs. Her...</td>\n",
       "      <td>In evaluating the responses from Assistant A a...</td>\n",
       "    </tr>\n",
       "    <tr>\n",
       "      <th>2</th>\n",
       "      <td>combinatorics</td>\n",
       "      <td>Can you cover all the black squares in a chess...</td>\n",
       "      <td>To check if we can cover all the black squares...</td>\n",
       "      <td>You can cover all the black squares of a chess...</td>\n",
       "      <td>**Evaluation of the Responses**\\n\\n1. **Helpfu...</td>\n",
       "    </tr>\n",
       "    <tr>\n",
       "      <th>3</th>\n",
       "      <td>combinatorics</td>\n",
       "      <td>There are n boxes B1, B2, …, Bn in a row. N ba...</td>\n",
       "      <td>To prove that we can achieve a state where eac...</td>\n",
       "      <td>Here's a proof by induction that you can alway...</td>\n",
       "      <td>### Evaluation of Assistant Responses:\\n\\n1. *...</td>\n",
       "    </tr>\n",
       "    <tr>\n",
       "      <th>4</th>\n",
       "      <td>combinatorics</td>\n",
       "      <td>Let A1, A2, …, A6 be subsets of S = {1, 2, …, ...</td>\n",
       "      <td>To determine \\( m \\), the number of times each...</td>\n",
       "      <td>Here's how to solve this problem:\\n\\n**Underst...</td>\n",
       "      <td>Both Assistant A and Assistant B provided clea...</td>\n",
       "    </tr>\n",
       "  </tbody>\n",
       "</table>\n",
       "</div>"
      ],
      "text/plain": [
       "        Category                                           Question  \\\n",
       "0  combinatorics  Given a set X with n elements and a collection...   \n",
       "1  combinatorics  Show that it is possible to partition the vert...   \n",
       "2  combinatorics  Can you cover all the black squares in a chess...   \n",
       "3  combinatorics  There are n boxes B1, B2, …, Bn in a row. N ba...   \n",
       "4  combinatorics  Let A1, A2, …, A6 be subsets of S = {1, 2, …, ...   \n",
       "\n",
       "                                          GPT_Answer  \\\n",
       "0  To prove that there exists a subset of \\(X\\) w...   \n",
       "1  To show that it is possible to partition the v...   \n",
       "2  To check if we can cover all the black squares...   \n",
       "3  To prove that we can achieve a state where eac...   \n",
       "4  To determine \\( m \\), the number of times each...   \n",
       "\n",
       "                                       Gemini_Answer  \\\n",
       "0  This is a classic problem related to the **Erd...   \n",
       "1  This statement is not true for all graphs. Her...   \n",
       "2  You can cover all the black squares of a chess...   \n",
       "3  Here's a proof by induction that you can alway...   \n",
       "4  Here's how to solve this problem:\\n\\n**Underst...   \n",
       "\n",
       "                                          Evaluation  \n",
       "0  Both Assistant A and Assistant B aimed to prov...  \n",
       "1  In evaluating the responses from Assistant A a...  \n",
       "2  **Evaluation of the Responses**\\n\\n1. **Helpfu...  \n",
       "3  ### Evaluation of Assistant Responses:\\n\\n1. *...  \n",
       "4  Both Assistant A and Assistant B provided clea...  "
      ]
     },
     "execution_count": 88,
     "metadata": {},
     "output_type": "execute_result"
    }
   ],
   "source": [
    "df.head()"
   ]
  },
  {
   "cell_type": "code",
   "execution_count": 93,
   "metadata": {},
   "outputs": [
    {
     "ename": "AttributeError",
     "evalue": "'str' object has no attribute 'apply'",
     "output_type": "error",
     "traceback": [
      "\u001b[0;31m---------------------------------------------------------------------------\u001b[0m",
      "\u001b[0;31mAttributeError\u001b[0m                            Traceback (most recent call last)",
      "Cell \u001b[0;32mIn[93], line 2\u001b[0m\n\u001b[1;32m      1\u001b[0m \u001b[38;5;66;03m# Save the evaluated data, we make sure that each row is in quotes for the csv file\u001b[39;00m\n\u001b[0;32m----> 2\u001b[0m df \u001b[38;5;241m=\u001b[39m \u001b[43mdf\u001b[49m\u001b[43m[\u001b[49m\u001b[38;5;124;43m'\u001b[39;49m\u001b[38;5;124;43mEvaluation\u001b[39;49m\u001b[38;5;124;43m'\u001b[39;49m\u001b[43m]\u001b[49m\u001b[38;5;241;43m.\u001b[39;49m\u001b[43mapply\u001b[49m(\u001b[38;5;28;01mlambda\u001b[39;00m x: \u001b[38;5;124mf\u001b[39m\u001b[38;5;124m'\u001b[39m\u001b[38;5;124m\"\u001b[39m\u001b[38;5;132;01m{\u001b[39;00mx\u001b[38;5;132;01m}\u001b[39;00m\u001b[38;5;124m\"\u001b[39m\u001b[38;5;124m'\u001b[39m)\n\u001b[1;32m      4\u001b[0m \u001b[38;5;66;03m#undo the quotes\u001b[39;00m\n\u001b[1;32m      5\u001b[0m df \u001b[38;5;241m=\u001b[39m df\u001b[38;5;241m.\u001b[39mstr\u001b[38;5;241m.\u001b[39mreplace(\u001b[38;5;124m'\u001b[39m\u001b[38;5;124m\"\u001b[39m\u001b[38;5;124m'\u001b[39m, \u001b[38;5;124m'\u001b[39m\u001b[38;5;124m'\u001b[39m)\n",
      "\u001b[0;31mAttributeError\u001b[0m: 'str' object has no attribute 'apply'"
     ]
    }
   ],
   "source": [
    "# Save the evaluated data, we make sure that each row is in quotes for the csv file\n",
    "df = df['Evaluation'].apply(lambda x: f'\"{x}\"')\n",
    "\n",
    "\n",
    "df.to_csv('QuestionSet/Q3_evaluated.csv', index=False)\n",
    "df.head()"
   ]
  },
  {
   "cell_type": "code",
   "execution_count": 7,
   "metadata": {},
   "outputs": [],
   "source": [
    "new_df = pd.read_csv('QuestionSet/Samples_answer.csv')"
   ]
  },
  {
   "cell_type": "code",
   "execution_count": 8,
   "metadata": {},
   "outputs": [
    {
     "data": {
      "text/html": [
       "<div>\n",
       "<style scoped>\n",
       "    .dataframe tbody tr th:only-of-type {\n",
       "        vertical-align: middle;\n",
       "    }\n",
       "\n",
       "    .dataframe tbody tr th {\n",
       "        vertical-align: top;\n",
       "    }\n",
       "\n",
       "    .dataframe thead th {\n",
       "        text-align: right;\n",
       "    }\n",
       "</style>\n",
       "<table border=\"1\" class=\"dataframe\">\n",
       "  <thead>\n",
       "    <tr style=\"text-align: right;\">\n",
       "      <th></th>\n",
       "      <th>Type:</th>\n",
       "      <th>Question:</th>\n",
       "      <th>GPT</th>\n",
       "      <th>Gemini:</th>\n",
       "    </tr>\n",
       "  </thead>\n",
       "  <tbody>\n",
       "    <tr>\n",
       "      <th>0</th>\n",
       "      <td>math</td>\n",
       "      <td>Can you cover all the black squares in a chess...</td>\n",
       "      <td>To check if we can cover all the black squares...</td>\n",
       "      <td>You can cover all the black squares of a chess...</td>\n",
       "    </tr>\n",
       "    <tr>\n",
       "      <th>1</th>\n",
       "      <td>math</td>\n",
       "      <td>Six people are seated at a round table to play...</td>\n",
       "      <td>a) The seating arrangement around the table is...</td>\n",
       "      <td>Here's the breakdown:\\n\\na) **Circular Permuta...</td>\n",
       "    </tr>\n",
       "    <tr>\n",
       "      <th>2</th>\n",
       "      <td>coding</td>\n",
       "      <td>Implement a Python function to find the longes...</td>\n",
       "      <td>Finding the longest common subsequence (LCS) o...</td>\n",
       "      <td>```python\\ndef longest_common_subsequence(str1...</td>\n",
       "    </tr>\n",
       "    <tr>\n",
       "      <th>3</th>\n",
       "      <td>combinatorics</td>\n",
       "      <td>Show that the number of ways to distribute n d...</td>\n",
       "      <td>To show that the number of ways to distribute ...</td>\n",
       "      <td>Here's how to show that the number of ways to ...</td>\n",
       "    </tr>\n",
       "    <tr>\n",
       "      <th>4</th>\n",
       "      <td>book</td>\n",
       "      <td>Lisa can row a boat at the rate of 3 km/h in s...</td>\n",
       "      <td>Let's break down the problem step by step.\\n\\n...</td>\n",
       "      <td>Here's how to solve this problem:\\n\\n**1. Down...</td>\n",
       "    </tr>\n",
       "  </tbody>\n",
       "</table>\n",
       "</div>"
      ],
      "text/plain": [
       "           Type:                                          Question:  \\\n",
       "0           math  Can you cover all the black squares in a chess...   \n",
       "1           math  Six people are seated at a round table to play...   \n",
       "2         coding  Implement a Python function to find the longes...   \n",
       "3  combinatorics  Show that the number of ways to distribute n d...   \n",
       "4           book  Lisa can row a boat at the rate of 3 km/h in s...   \n",
       "\n",
       "                                                 GPT  \\\n",
       "0  To check if we can cover all the black squares...   \n",
       "1  a) The seating arrangement around the table is...   \n",
       "2  Finding the longest common subsequence (LCS) o...   \n",
       "3  To show that the number of ways to distribute ...   \n",
       "4  Let's break down the problem step by step.\\n\\n...   \n",
       "\n",
       "                                             Gemini:  \n",
       "0  You can cover all the black squares of a chess...  \n",
       "1  Here's the breakdown:\\n\\na) **Circular Permuta...  \n",
       "2  ```python\\ndef longest_common_subsequence(str1...  \n",
       "3  Here's how to show that the number of ways to ...  \n",
       "4  Here's how to solve this problem:\\n\\n**1. Down...  "
      ]
     },
     "execution_count": 8,
     "metadata": {},
     "output_type": "execute_result"
    }
   ],
   "source": [
    "new_df.head()"
   ]
  },
  {
   "cell_type": "code",
   "execution_count": 10,
   "metadata": {},
   "outputs": [],
   "source": [
    "new_df['Evaluation'] = [None] * len(new_df)\n",
    "\n",
    "# Evaluator\n",
    "for i in range(len(new_df)):\n",
    "    if new_df.iloc[i]['Evaluation'] is None:\n",
    "        question = new_df.iloc[i]['Question:']\n",
    "\n",
    "        category = new_df.iloc[i]['Type:']\n",
    "        \n",
    "        answer_gpt = new_df.iloc[i]['GPT']\n",
    "        answer_gemini = new_df.iloc[i]['Gemini:']\n",
    "        \n",
    "        response = client.chat.completions.create(\n",
    "            model=\"gpt-4o\",\n",
    "            messages=[\n",
    "                {\"role\": \"system\", \"content\": \"You are a helpful assistant.\"},\n",
    "                {\"role\": \"user\", \"content\": PAIRWISE_JUDGE_FULL.format(question=question, category=category, answer_a=answer_gpt, answer_b=answer_gemini)},\n",
    "            ]\n",
    "        )  \n",
    "\n",
    "        new_df.at[i, 'Evaluation'] = response.choices[-1].message.content\n"
   ]
  },
  {
   "cell_type": "code",
   "execution_count": 11,
   "metadata": {},
   "outputs": [
    {
     "data": {
      "text/html": [
       "<div>\n",
       "<style scoped>\n",
       "    .dataframe tbody tr th:only-of-type {\n",
       "        vertical-align: middle;\n",
       "    }\n",
       "\n",
       "    .dataframe tbody tr th {\n",
       "        vertical-align: top;\n",
       "    }\n",
       "\n",
       "    .dataframe thead th {\n",
       "        text-align: right;\n",
       "    }\n",
       "</style>\n",
       "<table border=\"1\" class=\"dataframe\">\n",
       "  <thead>\n",
       "    <tr style=\"text-align: right;\">\n",
       "      <th></th>\n",
       "      <th>Type:</th>\n",
       "      <th>Question:</th>\n",
       "      <th>GPT</th>\n",
       "      <th>Gemini:</th>\n",
       "      <th>Evaluation</th>\n",
       "      <th>Final_Verdict</th>\n",
       "    </tr>\n",
       "  </thead>\n",
       "  <tbody>\n",
       "    <tr>\n",
       "      <th>0</th>\n",
       "      <td>math</td>\n",
       "      <td>Can you cover all the black squares in a chess...</td>\n",
       "      <td>To check if we can cover all the black squares...</td>\n",
       "      <td>You can cover all the black squares of a chess...</td>\n",
       "      <td>Both assistants provided well-thought-out resp...</td>\n",
       "      <td>B</td>\n",
       "    </tr>\n",
       "    <tr>\n",
       "      <th>1</th>\n",
       "      <td>math</td>\n",
       "      <td>Six people are seated at a round table to play...</td>\n",
       "      <td>a) The seating arrangement around the table is...</td>\n",
       "      <td>Here's the breakdown:\\n\\na) **Circular Permuta...</td>\n",
       "      <td>Both Assistant A and Assistant B provided corr...</td>\n",
       "      <td>A</td>\n",
       "    </tr>\n",
       "    <tr>\n",
       "      <th>2</th>\n",
       "      <td>coding</td>\n",
       "      <td>Implement a Python function to find the longes...</td>\n",
       "      <td>Finding the longest common subsequence (LCS) o...</td>\n",
       "      <td>```python\\ndef longest_common_subsequence(str1...</td>\n",
       "      <td>Both Assistant A and Assistant B provided vali...</td>\n",
       "      <td>A</td>\n",
       "    </tr>\n",
       "    <tr>\n",
       "      <th>3</th>\n",
       "      <td>combinatorics</td>\n",
       "      <td>Show that the number of ways to distribute n d...</td>\n",
       "      <td>To show that the number of ways to distribute ...</td>\n",
       "      <td>Here's how to show that the number of ways to ...</td>\n",
       "      <td>Both responses from Assistant A and Assistant ...</td>\n",
       "      <td>B</td>\n",
       "    </tr>\n",
       "    <tr>\n",
       "      <th>4</th>\n",
       "      <td>book</td>\n",
       "      <td>Lisa can row a boat at the rate of 3 km/h in s...</td>\n",
       "      <td>Let's break down the problem step by step.\\n\\n...</td>\n",
       "      <td>Here's how to solve this problem:\\n\\n**1. Down...</td>\n",
       "      <td>Both Assistant A and Assistant B provided accu...</td>\n",
       "      <td>T</td>\n",
       "    </tr>\n",
       "  </tbody>\n",
       "</table>\n",
       "</div>"
      ],
      "text/plain": [
       "           Type:                                          Question:  \\\n",
       "0           math  Can you cover all the black squares in a chess...   \n",
       "1           math  Six people are seated at a round table to play...   \n",
       "2         coding  Implement a Python function to find the longes...   \n",
       "3  combinatorics  Show that the number of ways to distribute n d...   \n",
       "4           book  Lisa can row a boat at the rate of 3 km/h in s...   \n",
       "\n",
       "                                                 GPT  \\\n",
       "0  To check if we can cover all the black squares...   \n",
       "1  a) The seating arrangement around the table is...   \n",
       "2  Finding the longest common subsequence (LCS) o...   \n",
       "3  To show that the number of ways to distribute ...   \n",
       "4  Let's break down the problem step by step.\\n\\n...   \n",
       "\n",
       "                                             Gemini:  \\\n",
       "0  You can cover all the black squares of a chess...   \n",
       "1  Here's the breakdown:\\n\\na) **Circular Permuta...   \n",
       "2  ```python\\ndef longest_common_subsequence(str1...   \n",
       "3  Here's how to show that the number of ways to ...   \n",
       "4  Here's how to solve this problem:\\n\\n**1. Down...   \n",
       "\n",
       "                                          Evaluation Final_Verdict  \n",
       "0  Both assistants provided well-thought-out resp...             B  \n",
       "1  Both Assistant A and Assistant B provided corr...             A  \n",
       "2  Both Assistant A and Assistant B provided vali...             A  \n",
       "3  Both responses from Assistant A and Assistant ...             B  \n",
       "4  Both Assistant A and Assistant B provided accu...             T  "
      ]
     },
     "execution_count": 11,
     "metadata": {},
     "output_type": "execute_result"
    }
   ],
   "source": [
    "# Add a column for the final verdict\n",
    "new_df['Final_Verdict'] = [None] * len(new_df)\n",
    "\n",
    "for i in range(len(new_df)):\n",
    "    if new_df.iloc[i]['Final_Verdict'] is None:\n",
    "        evaluation = str(new_df.iloc[i]['Evaluation'])\n",
    "        # Extract the final verdict from the evaluation\n",
    "        if '[[A]]' in evaluation:\n",
    "            new_df.at[i, 'Final_Verdict'] = 'A'\n",
    "        elif '[[B]]' in evaluation:\n",
    "            new_df.at[i, 'Final_Verdict'] = 'B'\n",
    "        else:\n",
    "            new_df.at[i, 'Final_Verdict'] = 'T'\n",
    "\n",
    "new_df.head()"
   ]
  },
  {
   "cell_type": "code",
   "execution_count": 12,
   "metadata": {},
   "outputs": [],
   "source": [
    "# Save the final verdict data\n",
    "new_df.to_csv('QuestionSet/sample_verdict.csv', index=False)"
   ]
  },
  {
   "cell_type": "code",
   "execution_count": 14,
   "metadata": {},
   "outputs": [
    {
     "data": {
      "image/png": "[encoded data removed]",
      "text/plain": [
       "<Figure size 640x480 with 1 Axes>"
      ]
     },
     "metadata": {},
     "output_type": "display_data"
    }
   ],
   "source": [
    "# Plot the distribution of the final verdict\n",
    "import matplotlib.pyplot as plt\n",
    "\n",
    "new_df['Final_Verdict'].value_counts().plot(kind='bar')\n",
    "plt.xlabel('Final Verdict')\n",
    "plt.ylabel('Count')\n",
    "plt.title('Distribution of the Final Verdict')\n",
    "\n",
    "plt.show()"
   ]
  },
  {
   "cell_type": "code",
   "execution_count": null,
   "metadata": {},
   "outputs": [],
   "source": []
  }
 ],
 "metadata": {
  "kernelspec": {
   "display_name": ".venv",
   "language": "python",
   "name": "python3"
  },
  "language_info": {
   "codemirror_mode": {
    "name": "ipython",
    "version": 3
   },
   "file_extension": ".py",
   "mimetype": "text/x-python",
   "name": "python",
   "nbconvert_exporter": "python",
   "pygments_lexer": "ipython3",
   "version": "3.9.7"
  }
 },
 "nbformat": 4,
 "nbformat_minor": 2
}
