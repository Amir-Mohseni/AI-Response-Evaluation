{
 "cells": [
  {
   "cell_type": "code",
   "execution_count": 4,
   "metadata": {},
   "outputs": [
    {
     "data": {
      "text/html": [
       "<div>\n",
       "<style scoped>\n",
       "    .dataframe tbody tr th:only-of-type {\n",
       "        vertical-align: middle;\n",
       "    }\n",
       "\n",
       "    .dataframe tbody tr th {\n",
       "        vertical-align: top;\n",
       "    }\n",
       "\n",
       "    .dataframe thead th {\n",
       "        text-align: right;\n",
       "    }\n",
       "</style>\n",
       "<table border=\"1\" class=\"dataframe\">\n",
       "  <thead>\n",
       "    <tr style=\"text-align: right;\">\n",
       "      <th></th>\n",
       "      <th>Question</th>\n",
       "      <th>Model Response</th>\n",
       "      <th>Answer</th>\n",
       "      <th>Evaluation Response</th>\n",
       "      <th>Total Rating</th>\n",
       "    </tr>\n",
       "  </thead>\n",
       "  <tbody>\n",
       "    <tr>\n",
       "      <th>14</th>\n",
       "      <td>An urn consists of 30 red balls and 70 green b...</td>\n",
       "      <td>To solve the probability of getting exactly \\(...</td>\n",
       "      <td>Let \\( A \\) be the event of getting exactly \\(...</td>\n",
       "      <td>Evaluation: The system answer is quite compreh...</td>\n",
       "      <td>3</td>\n",
       "    </tr>\n",
       "    <tr>\n",
       "      <th>15</th>\n",
       "      <td>Assume that there are 100 people in a room and...</td>\n",
       "      <td>Let's approach this problem step-by-step:\\n\\n*...</td>\n",
       "      <td>a. The probability that at least two people ou...</td>\n",
       "      <td>Evaluation: The system_answer provides a detai...</td>\n",
       "      <td>2</td>\n",
       "    </tr>\n",
       "  </tbody>\n",
       "</table>\n",
       "</div>"
      ],
      "text/plain": [
       "                                             Question  \\\n",
       "14  An urn consists of 30 red balls and 70 green b...   \n",
       "15  Assume that there are 100 people in a room and...   \n",
       "\n",
       "                                       Model Response  \\\n",
       "14  To solve the probability of getting exactly \\(...   \n",
       "15  Let's approach this problem step-by-step:\\n\\n*...   \n",
       "\n",
       "                                               Answer  \\\n",
       "14  Let \\( A \\) be the event of getting exactly \\(...   \n",
       "15  a. The probability that at least two people ou...   \n",
       "\n",
       "                                  Evaluation Response  Total Rating  \n",
       "14  Evaluation: The system answer is quite compreh...             3  \n",
       "15  Evaluation: The system_answer provides a detai...             2  "
      ]
     },
     "execution_count": 4,
     "metadata": {},
     "output_type": "execute_result"
    }
   ],
   "source": [
    "import pandas as pd\n",
    "\n",
    "df = pd.read_csv('evaluation_responses.csv')\n",
    "\n",
    "# View the ratings that were less than 4\n",
    "df[df['Total Rating'] < 4]"
   ]
  },
  {
   "cell_type": "code",
   "execution_count": null,
   "metadata": {},
   "outputs": [],
   "source": []
  }
 ],
 "metadata": {
  "kernelspec": {
   "display_name": ".venv",
   "language": "python",
   "name": "python3"
  },
  "language_info": {
   "codemirror_mode": {
    "name": "ipython",
    "version": 3
   },
   "file_extension": ".py",
   "mimetype": "text/x-python",
   "name": "python",
   "nbconvert_exporter": "python",
   "pygments_lexer": "ipython3",
   "version": "3.9.7"
  }
 },
 "nbformat": 4,
 "nbformat_minor": 2
}
