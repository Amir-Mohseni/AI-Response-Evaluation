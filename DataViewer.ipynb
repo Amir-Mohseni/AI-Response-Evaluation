{
 "cells": [
  {
   "cell_type": "code",
   "execution_count": 2,
   "metadata": {},
   "outputs": [
    {
     "data": {
      "text/html": [
       "<div>\n",
       "<style scoped>\n",
       "    .dataframe tbody tr th:only-of-type {\n",
       "        vertical-align: middle;\n",
       "    }\n",
       "\n",
       "    .dataframe tbody tr th {\n",
       "        vertical-align: top;\n",
       "    }\n",
       "\n",
       "    .dataframe thead th {\n",
       "        text-align: right;\n",
       "    }\n",
       "</style>\n",
       "<table border=\"1\" class=\"dataframe\">\n",
       "  <thead>\n",
       "    <tr style=\"text-align: right;\">\n",
       "      <th></th>\n",
       "      <th>Question</th>\n",
       "      <th>Model Response</th>\n",
       "      <th>Answer</th>\n",
       "      <th>Evaluation Response</th>\n",
       "    </tr>\n",
       "  </thead>\n",
       "  <tbody>\n",
       "    <tr>\n",
       "      <th>0</th>\n",
       "      <td>How many straight lines can be formed by 8 poi...</td>\n",
       "      <td>To find the number of straight lines that can ...</td>\n",
       "      <td>8C2 - 3C2 + 1 (general formula \"nC2 - rC2 + 1\")</td>\n",
       "      <td>2.0\\nThe model's response provides an incorrec...</td>\n",
       "    </tr>\n",
       "    <tr>\n",
       "      <th>1</th>\n",
       "      <td>How many triangles can be formed by 8 points o...</td>\n",
       "      <td>To form a triangle, you need to choose 3 point...</td>\n",
       "      <td>8C3 - 3C3 (general formula \"8C3 - rC3\")</td>\n",
       "      <td>5/5\\n\\nThe model's response is excellent. It p...</td>\n",
       "    </tr>\n",
       "    <tr>\n",
       "      <th>2</th>\n",
       "      <td>How many committees of 5 students can be selec...</td>\n",
       "      <td>This problem can be solved using the combinati...</td>\n",
       "      <td>Choose 5 out of 25 = 25C5 = 53130</td>\n",
       "      <td>5/5\\n\\nThe model response is excellent, it bre...</td>\n",
       "    </tr>\n",
       "    <tr>\n",
       "      <th>3</th>\n",
       "      <td>How many 10-letter patterns can be formed from...</td>\n",
       "      <td>The word \"BASKETBALL\" has 10 letters which inc...</td>\n",
       "      <td>Total letters=10, B=2, A=2, S=1, K=1, E=1, T=1...</td>\n",
       "      <td>The model's response is significantly wrong. T...</td>\n",
       "    </tr>\n",
       "    <tr>\n",
       "      <th>4</th>\n",
       "      <td>A box contains 12 black and 8 green marbles. H...</td>\n",
       "      <td>We can solve this problem using the concept of...</td>\n",
       "      <td>12C3 + 8C2 = 248</td>\n",
       "      <td>1\\nThe model response is incorrect. The model ...</td>\n",
       "    </tr>\n",
       "  </tbody>\n",
       "</table>\n",
       "</div>"
      ],
      "text/plain": [
       "                                            Question  \\\n",
       "0  How many straight lines can be formed by 8 poi...   \n",
       "1  How many triangles can be formed by 8 points o...   \n",
       "2  How many committees of 5 students can be selec...   \n",
       "3  How many 10-letter patterns can be formed from...   \n",
       "4  A box contains 12 black and 8 green marbles. H...   \n",
       "\n",
       "                                      Model Response  \\\n",
       "0  To find the number of straight lines that can ...   \n",
       "1  To form a triangle, you need to choose 3 point...   \n",
       "2  This problem can be solved using the combinati...   \n",
       "3  The word \"BASKETBALL\" has 10 letters which inc...   \n",
       "4  We can solve this problem using the concept of...   \n",
       "\n",
       "                                              Answer  \\\n",
       "0    8C2 - 3C2 + 1 (general formula \"nC2 - rC2 + 1\")   \n",
       "1            8C3 - 3C3 (general formula \"8C3 - rC3\")   \n",
       "2                  Choose 5 out of 25 = 25C5 = 53130   \n",
       "3  Total letters=10, B=2, A=2, S=1, K=1, E=1, T=1...   \n",
       "4                                   12C3 + 8C2 = 248   \n",
       "\n",
       "                                 Evaluation Response  \n",
       "0  2.0\\nThe model's response provides an incorrec...  \n",
       "1  5/5\\n\\nThe model's response is excellent. It p...  \n",
       "2  5/5\\n\\nThe model response is excellent, it bre...  \n",
       "3  The model's response is significantly wrong. T...  \n",
       "4  1\\nThe model response is incorrect. The model ...  "
      ]
     },
     "execution_count": 2,
     "metadata": {},
     "output_type": "execute_result"
    }
   ],
   "source": [
    "import pandas as pd\n",
    "\n",
    "df = pd.read_csv('evaluation_responses.csv')\n",
    "\n",
    "# View the entire table to see what we're working with\n",
    "df.head()"
   ]
  },
  {
   "cell_type": "code",
   "execution_count": null,
   "metadata": {},
   "outputs": [],
   "source": []
  }
 ],
 "metadata": {
  "kernelspec": {
   "display_name": ".venv",
   "language": "python",
   "name": "python3"
  },
  "language_info": {
   "codemirror_mode": {
    "name": "ipython",
    "version": 3
   },
   "file_extension": ".py",
   "mimetype": "text/x-python",
   "name": "python",
   "nbconvert_exporter": "python",
   "pygments_lexer": "ipython3",
   "version": "3.9.7"
  }
 },
 "nbformat": 4,
 "nbformat_minor": 2
}
